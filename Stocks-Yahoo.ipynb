{
 "cells": [
  {
   "cell_type": "code",
   "execution_count": 1,
   "metadata": {},
   "outputs": [],
   "source": [
    "import pandas as pd\n",
    "import time\n",
    "import yfinance as yf\n",
    "from datetime import date, datetime\n",
    "import matplotlib.pyplot as plt\n",
    "from pandas.plotting import register_matplotlib_converters\n",
    "register_matplotlib_converters()\n",
    "pd.set_option(\"display.max_columns\", None)\n",
    "pd.set_option(\"display.max_rows\", None)"
   ]
  },
  {
   "cell_type": "code",
   "execution_count": 1,
   "metadata": {},
   "outputs": [
    {
     "name": "stdout",
     "output_type": "stream",
     "text": [
      "selam bro.\n"
     ]
    }
   ],
   "source": [
    "print(\"selam bro.\")"
   ]
  },
  {
   "cell_type": "code",
   "execution_count": 2,
   "metadata": {},
   "outputs": [
    {
     "name": "stdout",
     "output_type": "stream",
     "text": [
      "oo karşim a.s.\n"
     ]
    }
   ],
   "source": [
    "print(\"oo karşim a.s.\")"
   ]
  },
  {
   "cell_type": "markdown",
   "metadata": {},
   "source": [
    "add here Google Finance API."
   ]
  },
  {
   "cell_type": "code",
   "execution_count": 2,
   "metadata": {},
   "outputs": [],
   "source": [
    "year = 2021\n",
    "trans = pd.read_excel('Portfolio_'+str(year)+'.xlsm', sheet_name = \"Transactions\") \n",
    "trans = trans.iloc[:,:7]\n",
    "#trans = trans[trans[\"Tutar\"] != 0]\n",
    "trans = trans[trans[\"Hisse\"] != \"USDTRY\"]\n",
    "trans = trans[trans[\"Hisse\"] != \"XAUTRYG\"]\n",
    "trans = trans[trans[\"Hisse\"] != \"XU030\"]\n",
    "\n",
    "stocks = trans[\"Hisse\"].unique().tolist()\n",
    "\n",
    "today = date.today().strftime(\"%Y-%m-%d\")\n",
    "\n",
    "stocks.remove('AFT')\n",
    "stocks.remove('AFA')\n",
    "stocks.remove('IPJ')\n",
    "stocks.remove('TGE')\n",
    "stocks.remove('NNF')\n",
    "stocks = stocks[:-1]\n",
    "stocks = [s + '.IS' for s in stocks]"
   ]
  },
  {
   "cell_type": "code",
   "execution_count": 3,
   "metadata": {},
   "outputs": [
    {
     "name": "stdout",
     "output_type": "stream",
     "text": [
      "[*********************100%***********************]  1 of 1 completed\n"
     ]
    }
   ],
   "source": [
    "data = pd.DataFrame(yf.download('TUPRS.IS','2021-01-01',today)['Close'])\n",
    "result = data"
   ]
  },
  {
   "cell_type": "code",
   "execution_count": 4,
   "metadata": {},
   "outputs": [
    {
     "name": "stdout",
     "output_type": "stream",
     "text": [
      "[*********************100%***********************]  1 of 1 completed\n"
     ]
    }
   ],
   "source": [
    "data = pd.DataFrame(yf.download('ASELS.IS','2021-01-01',today)['Close'])\n",
    "result = result.merge(data, how = 'left', on = 'Date')"
   ]
  },
  {
   "cell_type": "code",
   "execution_count": 5,
   "metadata": {},
   "outputs": [
    {
     "name": "stdout",
     "output_type": "stream",
     "text": [
      "[*********************100%***********************]  1 of 1 completed\n"
     ]
    }
   ],
   "source": [
    "data = pd.DataFrame(yf.download('ARCLK.IS','2021-01-01',today)['Close'])\n",
    "result = result.merge(data, how = 'left', on = 'Date')"
   ]
  },
  {
   "cell_type": "code",
   "execution_count": 6,
   "metadata": {},
   "outputs": [
    {
     "name": "stdout",
     "output_type": "stream",
     "text": [
      "[*********************100%***********************]  1 of 1 completed\n"
     ]
    }
   ],
   "source": [
    "data = pd.DataFrame(yf.download('SISE.IS','2021-01-01',today)['Close'])\n",
    "result = result.merge(data, how = 'left', on = 'Date')"
   ]
  },
  {
   "cell_type": "code",
   "execution_count": 7,
   "metadata": {},
   "outputs": [
    {
     "name": "stdout",
     "output_type": "stream",
     "text": [
      "[*********************100%***********************]  1 of 1 completed\n"
     ]
    }
   ],
   "source": [
    "data = pd.DataFrame(yf.download('TTKOM.IS','2021-01-01',today)['Close'])\n",
    "result = result.merge(data, how = 'left', on = 'Date')"
   ]
  },
  {
   "cell_type": "code",
   "execution_count": 8,
   "metadata": {},
   "outputs": [
    {
     "name": "stdout",
     "output_type": "stream",
     "text": [
      "[*********************100%***********************]  1 of 1 completed\n"
     ]
    }
   ],
   "source": [
    "data = pd.DataFrame(yf.download('EREGL.IS','2021-01-01',today)['Close'])\n",
    "result = result.merge(data, how = 'left', on = 'Date')"
   ]
  },
  {
   "cell_type": "code",
   "execution_count": 9,
   "metadata": {},
   "outputs": [
    {
     "name": "stdout",
     "output_type": "stream",
     "text": [
      "[*********************100%***********************]  1 of 1 completed\n"
     ]
    }
   ],
   "source": [
    "data = pd.DataFrame(yf.download('TKFEN.IS','2021-01-01',today)['Close'])\n",
    "result = result.merge(data, how = 'left', on = 'Date')"
   ]
  },
  {
   "cell_type": "code",
   "execution_count": 10,
   "metadata": {},
   "outputs": [
    {
     "name": "stdout",
     "output_type": "stream",
     "text": [
      "[*********************100%***********************]  1 of 1 completed\n"
     ]
    }
   ],
   "source": [
    "data = pd.DataFrame(yf.download('TOASO.IS','2021-01-01',today)['Close'])\n",
    "result = result.merge(data, how = 'left', on = 'Date')"
   ]
  },
  {
   "cell_type": "code",
   "execution_count": 11,
   "metadata": {},
   "outputs": [
    {
     "name": "stdout",
     "output_type": "stream",
     "text": [
      "[*********************100%***********************]  1 of 1 completed\n"
     ]
    }
   ],
   "source": [
    "data = pd.DataFrame(yf.download('BIMAS.IS','2021-01-01',today)['Close'])\n",
    "result = result.merge(data, how = 'left', on = 'Date')"
   ]
  },
  {
   "cell_type": "code",
   "execution_count": 12,
   "metadata": {},
   "outputs": [
    {
     "name": "stdout",
     "output_type": "stream",
     "text": [
      "[*********************100%***********************]  1 of 1 completed\n"
     ]
    }
   ],
   "source": [
    "data = pd.DataFrame(yf.download('TCELL.IS','2021-01-01',today)['Close'])\n",
    "result = result.merge(data, how = 'left', on = 'Date')"
   ]
  },
  {
   "cell_type": "code",
   "execution_count": 13,
   "metadata": {},
   "outputs": [
    {
     "name": "stdout",
     "output_type": "stream",
     "text": [
      "[*********************100%***********************]  1 of 1 completed\n"
     ]
    }
   ],
   "source": [
    "data = pd.DataFrame(yf.download('VESBE.IS','2021-01-01',today)['Close'])\n",
    "result = result.merge(data, how = 'left', on = 'Date')"
   ]
  },
  {
   "cell_type": "code",
   "execution_count": 14,
   "metadata": {},
   "outputs": [
    {
     "name": "stdout",
     "output_type": "stream",
     "text": [
      "[*********************100%***********************]  1 of 1 completed\n"
     ]
    }
   ],
   "source": [
    "data = pd.DataFrame(yf.download('YKBNK.IS','2021-01-01',today)['Close'])\n",
    "result = result.merge(data, how = 'left', on = 'Date')"
   ]
  },
  {
   "cell_type": "code",
   "execution_count": 15,
   "metadata": {},
   "outputs": [
    {
     "name": "stdout",
     "output_type": "stream",
     "text": [
      "[*********************100%***********************]  1 of 1 completed\n"
     ]
    }
   ],
   "source": [
    "data = pd.DataFrame(yf.download('GEDZA.IS','2021-01-01',today)['Close'])\n",
    "result = result.merge(data, how = 'left', on = 'Date')"
   ]
  },
  {
   "cell_type": "code",
   "execution_count": 16,
   "metadata": {},
   "outputs": [
    {
     "name": "stdout",
     "output_type": "stream",
     "text": [
      "[*********************100%***********************]  1 of 1 completed\n"
     ]
    }
   ],
   "source": [
    "data = pd.DataFrame(yf.download('HEKTS.IS','2021-01-01',today)['Close'])\n",
    "result = result.merge(data, how = 'left', on = 'Date')"
   ]
  },
  {
   "cell_type": "code",
   "execution_count": 17,
   "metadata": {},
   "outputs": [
    {
     "name": "stdout",
     "output_type": "stream",
     "text": [
      "[*********************100%***********************]  1 of 1 completed\n"
     ]
    }
   ],
   "source": [
    "data = pd.DataFrame(yf.download('KCHOL.IS','2021-01-01',today)['Close'])\n",
    "result = result.merge(data, how = 'left', on = 'Date')"
   ]
  },
  {
   "cell_type": "code",
   "execution_count": 18,
   "metadata": {},
   "outputs": [
    {
     "name": "stdout",
     "output_type": "stream",
     "text": [
      "[*********************100%***********************]  1 of 1 completed\n"
     ]
    }
   ],
   "source": [
    "data = pd.DataFrame(yf.download('PETKM.IS','2021-01-01',today)['Close'])\n",
    "result = result.merge(data, how = 'left', on = 'Date')"
   ]
  },
  {
   "cell_type": "code",
   "execution_count": 19,
   "metadata": {},
   "outputs": [
    {
     "name": "stdout",
     "output_type": "stream",
     "text": [
      "[*********************100%***********************]  1 of 1 completed\n"
     ]
    }
   ],
   "source": [
    "data = pd.DataFrame(yf.download('VESTL.IS','2021-01-01',today)['Close'])\n",
    "result = result.merge(data, how = 'left', on = 'Date')"
   ]
  },
  {
   "cell_type": "code",
   "execution_count": 20,
   "metadata": {},
   "outputs": [
    {
     "name": "stdout",
     "output_type": "stream",
     "text": [
      "[*********************100%***********************]  1 of 1 completed\n"
     ]
    }
   ],
   "source": [
    "data = pd.DataFrame(yf.download('YATAS.IS','2021-01-01',today)['Close'])\n",
    "result = result.merge(data, how = 'left', on = 'Date')"
   ]
  },
  {
   "cell_type": "code",
   "execution_count": 21,
   "metadata": {},
   "outputs": [
    {
     "name": "stdout",
     "output_type": "stream",
     "text": [
      "[*********************100%***********************]  1 of 1 completed\n"
     ]
    }
   ],
   "source": [
    "data = pd.DataFrame(yf.download('BRISA.IS','2021-01-01',today)['Close'])\n",
    "result = result.merge(data, how = 'left', on = 'Date')"
   ]
  },
  {
   "cell_type": "code",
   "execution_count": 22,
   "metadata": {},
   "outputs": [
    {
     "name": "stdout",
     "output_type": "stream",
     "text": [
      "[*********************100%***********************]  1 of 1 completed\n"
     ]
    }
   ],
   "source": [
    "data = pd.DataFrame(yf.download('FROTO.IS','2021-01-01',today)['Close'])\n",
    "result = result.merge(data, how = 'left', on = 'Date')"
   ]
  },
  {
   "cell_type": "code",
   "execution_count": 23,
   "metadata": {},
   "outputs": [
    {
     "name": "stdout",
     "output_type": "stream",
     "text": [
      "[*********************100%***********************]  1 of 1 completed\n"
     ]
    }
   ],
   "source": [
    "data = pd.DataFrame(yf.download('ARDYZ.IS','2021-01-01',today)['Close'])\n",
    "result = result.merge(data, how = 'left', on = 'Date')"
   ]
  },
  {
   "cell_type": "code",
   "execution_count": 24,
   "metadata": {},
   "outputs": [],
   "source": [
    "data = result"
   ]
  },
  {
   "cell_type": "code",
   "execution_count": 25,
   "metadata": {},
   "outputs": [],
   "source": [
    "data.columns = stocks"
   ]
  },
  {
   "cell_type": "code",
   "execution_count": 26,
   "metadata": {},
   "outputs": [],
   "source": [
    "data.loc[data.index < '2021-10-25', 'VESBE.IS'] = data.loc[data.index < '2021-10-25', 'VESBE.IS']*(8.4211)\n",
    "data.loc[data.index < '2021-08-31', 'GEDZA.IS'] = data.loc[data.index < '2021-08-31', 'GEDZA.IS']*(2)\n",
    "data.loc[data.index < '2021-04-30', 'HEKTS.IS'] = data.loc[data.index < '2021-04-30', 'HEKTS.IS']*(2.7577)\n"
   ]
  },
  {
   "cell_type": "code",
   "execution_count": 27,
   "metadata": {},
   "outputs": [],
   "source": [
    "# data = pd.DataFrame(yf.download(stocks[0],'2021-01-01',today)['Close'])\n",
    "\n",
    "# for i in range(1,len(stocks)):\n",
    "#     data_temp = pd.DataFrame(yf.download(stocks[i],'2021-01-01',today)['Close'])\n",
    "#     data = data.merge(data_temp, how = 'left', on = 'Date')\n",
    "#     print(i)"
   ]
  },
  {
   "cell_type": "code",
   "execution_count": 28,
   "metadata": {},
   "outputs": [],
   "source": [
    "data = data.astype('float')"
   ]
  },
  {
   "cell_type": "code",
   "execution_count": 29,
   "metadata": {},
   "outputs": [],
   "source": [
    "stocks = trans[\"Hisse\"].unique().tolist()\n",
    "stocks.remove('AFT')\n",
    "stocks.remove('AFA')\n",
    "stocks.remove('IPJ')\n",
    "stocks.remove('TGE')\n",
    "stocks.remove('NNF')\n",
    "stocks = stocks[:-1]"
   ]
  },
  {
   "cell_type": "code",
   "execution_count": 30,
   "metadata": {},
   "outputs": [],
   "source": [
    "df = data.iloc[6:,:]"
   ]
  },
  {
   "cell_type": "code",
   "execution_count": 31,
   "metadata": {},
   "outputs": [],
   "source": [
    "trans.columns = [\"Date\",\"Stock\",\"Buy/Sell\",\"Price\",\"Lots\",\"Amount\",\"Commission\"]\n",
    "trans = trans.dropna()\n",
    "\n",
    "\n",
    "lots = pd.DataFrame(columns = stocks, index = df.index)\n",
    "\n",
    "if year == 2021:\n",
    "    prices = df[df.index >= min(trans[\"Date\"])]\n",
    "    list1 = prices.columns\n",
    "    list2 = [s[:-3] for s in list1]\n",
    "    prices.columns = list2\n"
   ]
  },
  {
   "cell_type": "code",
   "execution_count": 32,
   "metadata": {},
   "outputs": [],
   "source": [
    "#list1 = lots.columns\n",
    "#list2 = [s[:-3] for s in list1]\n",
    "#lots.columns = list2"
   ]
  },
  {
   "cell_type": "code",
   "execution_count": 33,
   "metadata": {},
   "outputs": [],
   "source": [
    "list1 = df.columns\n",
    "list2 = [s[:-3] for s in list1]\n",
    "df.columns = list2"
   ]
  },
  {
   "cell_type": "code",
   "execution_count": 34,
   "metadata": {},
   "outputs": [
    {
     "name": "stderr",
     "output_type": "stream",
     "text": [
      "E:\\Anaconda\\lib\\site-packages\\ipykernel_launcher.py:33: SettingWithCopyWarning: \n",
      "A value is trying to be set on a copy of a slice from a DataFrame.\n",
      "Try using .loc[row_indexer,col_indexer] = value instead\n",
      "\n",
      "See the caveats in the documentation: http://pandas.pydata.org/pandas-docs/stable/user_guide/indexing.html#returning-a-view-versus-a-copy\n"
     ]
    }
   ],
   "source": [
    "trans[\"Date2\"] = pd.to_datetime(trans[\"Date\"])\n",
    "\n",
    "\n",
    "for i in range(0,len(lots)):\n",
    "    for j in range(0,len(stocks)):\n",
    "        lots.iloc[i,j] = trans[(trans['Date2'] <= lots.index[i]) & (trans[\"Stock\"] == stocks[j]) & (trans[\"Buy/Sell\"] == \"Alış\")][\"Lots\"].sum() \\\n",
    "                        -trans[(trans['Date2'] <= lots.index[i]) & (trans[\"Stock\"] == stocks[j]) & (trans[\"Buy/Sell\"] == \"Satış\")][\"Lots\"].sum()   \n",
    "\n",
    "expenses = pd.DataFrame(columns = stocks, index = prices.index)\n",
    "\n",
    "\n",
    "if year == 2021:\n",
    "    df[\"PORTFOLIO\"] = df['EREGL']*lots[\"EREGL\"].iloc[-1] + \\\n",
    "                        df['TUPRS']*lots[\"TUPRS\"].iloc[-1] + \\\n",
    "                        df['ASELS']*lots[\"ASELS\"].iloc[-1] + \\\n",
    "                        df['SISE']*lots[\"SISE\"].iloc[-1] + \\\n",
    "                        df['TOASO']*lots[\"TOASO\"].iloc[-1] + \\\n",
    "                        df['TTKOM']*lots[\"TTKOM\"].iloc[-1] + \\\n",
    "                        df['BIMAS']*lots[\"BIMAS\"].iloc[-1] + \\\n",
    "                        df['FROTO']*lots[\"FROTO\"].iloc[-1] + \\\n",
    "                        df['ARCLK']*lots[\"ARCLK\"].iloc[-1] + \\\n",
    "                        df['ARDYZ']*lots[\"ARDYZ\"].iloc[-1] + \\\n",
    "                        df['YATAS']*lots[\"YATAS\"].iloc[-1] + \\\n",
    "                        df['KCHOL']*lots[\"KCHOL\"].iloc[-1] + \\\n",
    "                        df['VESTL']*lots[\"VESTL\"].iloc[-1] + \\\n",
    "                        df['GEDZA']*lots[\"GEDZA\"].iloc[-1] + \\\n",
    "                        df['VESBE']*lots[\"VESBE\"].iloc[-1] + \\\n",
    "                        df['PETKM']*lots[\"PETKM\"].iloc[-1] + \\\n",
    "                        df['HEKTS']*lots[\"HEKTS\"].iloc[-1] + \\\n",
    "                        df['TKFEN']*lots[\"TKFEN\"].iloc[-1] + \\\n",
    "                        df['BRISA']*lots[\"BRISA\"].iloc[-1] + \\\n",
    "                        df['TCELL']*lots[\"TCELL\"].iloc[-1] + \\\n",
    "                        df['YKBNK']*lots[\"YKBNK\"].iloc[-1]\n",
    "                      "
   ]
  },
  {
   "cell_type": "code",
   "execution_count": 35,
   "metadata": {},
   "outputs": [],
   "source": [
    "#204,20\n",
    "for i in range(0,len(lots)):\n",
    "    for j in range(0,len(stocks)):\n",
    "        expenses.iloc[i,j] = trans[(trans[\"Date2\"] <= lots.index[i]) & (trans[\"Stock\"] == stocks[j]) & (trans[\"Buy/Sell\"] == \"Alış\")][\"Amount\"].sum() \\\n",
    "                            -trans[(trans[\"Date2\"] <= lots.index[i]) & (trans[\"Stock\"] == stocks[j]) & (trans[\"Buy/Sell\"] == \"Satış\")][\"Amount\"].sum() \\\n",
    "                            +trans[(trans[\"Date2\"] <= lots.index[i]) & (trans[\"Stock\"] == stocks[j])][\"Commission\"].sum() \\\n",
    "                            -trans[(trans[\"Date2\"] <= lots.index[i]) & (trans[\"Stock\"] == stocks[j]) & (trans[\"Buy/Sell\"] == \"TMTTU\")][\"Amount\"].sum()\n",
    "\n"
   ]
  },
  {
   "cell_type": "code",
   "execution_count": 36,
   "metadata": {},
   "outputs": [
    {
     "name": "stdout",
     "output_type": "stream",
     "text": [
      "Date\n",
      "2021-11-19    80613.100009\n",
      "Name: PORTFOLIO, dtype: float64 Date\n",
      "2021-11-19    19314.02\n",
      "Name: TOTAL, dtype: float64\n"
     ]
    }
   ],
   "source": [
    "lot_pri = lots * prices\n",
    "lot_pri[\"TOTAL\"] = lot_pri.sum(axis = 1)   \n",
    "\n",
    "\n",
    "profit = lot_pri - expenses\n",
    "profit[\"TOTAL\"] = profit.sum(axis = 1)\n",
    "profit[\"Daily\"] = profit[\"TOTAL\"].diff()\n",
    "print(df[\"PORTFOLIO\"].tail(1),round(profit[\"TOTAL\"].tail(1),2))"
   ]
  },
  {
   "cell_type": "code",
   "execution_count": 37,
   "metadata": {},
   "outputs": [],
   "source": [
    "#lot_pri[\"TOTAL\"].plot(figsize = (10,5))"
   ]
  },
  {
   "cell_type": "code",
   "execution_count": 38,
   "metadata": {},
   "outputs": [
    {
     "data": {
      "image/png": "[encoded data removed]",
      "text/plain": [
       "<Figure size 1440x360 with 1 Axes>"
      ]
     },
     "metadata": {
      "needs_background": "light"
     },
     "output_type": "display_data"
    }
   ],
   "source": [
    "from matplotlib.pyplot import figure\n",
    "plt.figure(figsize=(20,5))\n",
    "plt.plot(profit[\"TOTAL\"], linestyle = '-', marker = 'o', color = \"red\" )\n",
    "plt.xticks(rotation = 45)\n",
    "plt.grid()\n",
    "plt.xlabel(\"Date\") \n",
    "plt.ylabel(\"Profit/Loss\")\n",
    "plt.show()"
   ]
  },
  {
   "cell_type": "code",
   "execution_count": 39,
   "metadata": {},
   "outputs": [
    {
     "name": "stdout",
     "output_type": "stream",
     "text": [
      "Date\n",
      "2021-11-15    1839.797282\n",
      "2021-11-16    -935.049422\n",
      "2021-11-17    1660.800245\n",
      "2021-11-18    1579.799640\n",
      "2021-11-19     283.450646\n",
      "Name: DAILY, dtype: float64\n"
     ]
    },
    {
     "name": "stderr",
     "output_type": "stream",
     "text": [
      "E:\\Anaconda\\lib\\site-packages\\ipykernel_launcher.py:2: SettingWithCopyWarning: \n",
      "A value is trying to be set on a copy of a slice from a DataFrame.\n",
      "Try using .loc[row_indexer,col_indexer] = value instead\n",
      "\n",
      "See the caveats in the documentation: http://pandas.pydata.org/pandas-docs/stable/user_guide/indexing.html#returning-a-view-versus-a-copy\n",
      "  \n"
     ]
    }
   ],
   "source": [
    "## Daily Profits/Losses\n",
    "df[\"DAILY\"] = df[\"PORTFOLIO\"].diff()\n",
    "with pd.option_context('display.max_rows', None, 'display.max_columns', None):  # more options can be specified also\n",
    "    print(df[df[\"DAILY\"].isnull() == False][\"DAILY\"].tail())"
   ]
  },
  {
   "cell_type": "code",
   "execution_count": null,
   "metadata": {},
   "outputs": [],
   "source": [
    "##xu100'ü malesef siteden çekmek zorundayız. \n",
    "\n",
    "\n",
    "# xu100_1 = pd.read_csv(\"XU100.csv\")\n",
    "# xu100_1 = xu100_1[\"Price\"]\n",
    "# xu100  = xu100_1.iloc[::-1]\n",
    "# xu100.index = df.index\n",
    "# comp = pd.concat([xu100,df[\"PORTFOLIO\"]], axis = 1)\n",
    "# comp['Price'] = comp['Price'].str.replace(',', '')\n",
    "# comp[\"Price\"] = comp[\"Price\"].astype(\"float\")\n",
    "# comp[\"XU100_Adj\"] = comp[\"Price\"]/(comp[\"Price\"].iloc[0] / comp[\"PORTFOLIO\"].iloc[0])\n",
    "# comp[[\"PORTFOLIO\",\"XU100_Adj\"]].plot(figsize = (20,10))"
   ]
  }
 ],
 "metadata": {
  "interpreter": {
   "hash": "fcd69da28e3650786c36d2887647db6f76ea26302c04d7a9818cc5a269be5942"
  },
  "kernelspec": {
   "display_name": "Python 3.8.8 ('cekirdek')",
   "language": "python",
   "name": "python3"
  },
  "language_info": {
   "codemirror_mode": {
    "name": "ipython",
    "version": 3
   },
   "file_extension": ".py",
   "mimetype": "text/x-python",
   "name": "python",
   "nbconvert_exporter": "python",
   "pygments_lexer": "ipython3",
   "version": "3.8.8"
  }
 },
 "nbformat": 4,
 "nbformat_minor": 4
}
