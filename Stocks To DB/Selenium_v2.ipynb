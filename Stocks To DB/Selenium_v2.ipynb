{
 "cells": [
  {
   "cell_type": "code",
   "execution_count": 1,
   "metadata": {},
   "outputs": [],
   "source": [
    "import selenium\n",
    "from selenium.webdriver.common.keys import Keys\n",
    "from selenium import webdriver\n",
    "\n",
    "import requests\n",
    "import time\n",
    "from bs4 import BeautifulSoup\n",
    "\n",
    "import pandas as pd\n",
    "import numpy as np\n",
    "import xlrd\n",
    "import os\n",
    "from tqdm import tqdm\n",
    "\n",
    "import openpyxl\n",
    "from openpyxl import Workbook, load_workbook\n",
    "from openpyxl.utils import get_column_letter"
   ]
  },
  {
   "cell_type": "code",
   "execution_count": 4,
   "metadata": {},
   "outputs": [],
   "source": [
    "os.chdir('Financials_202112')"
   ]
  },
  {
   "cell_type": "code",
   "execution_count": 12,
   "metadata": {},
   "outputs": [],
   "source": [
    "all_stocks = [stock.split('.', 1)[0] for stock in os.listdir()]"
   ]
  },
  {
   "cell_type": "code",
   "execution_count": 18,
   "metadata": {},
   "outputs": [],
   "source": [
    "os.chdir('C:/Users/Gökhan Akay/Desktop/BeautifulSoup/Selenium Stocks')\n",
    "existing_stocks = [stock.split('.', 1)[0] for stock in os.listdir()]"
   ]
  },
  {
   "cell_type": "code",
   "execution_count": 23,
   "metadata": {},
   "outputs": [],
   "source": [
    "remaining_stocks = sorted(list(set(all_stocks).difference(set(existing_stocks))))"
   ]
  },
  {
   "cell_type": "code",
   "execution_count": 25,
   "metadata": {},
   "outputs": [
    {
     "name": "stdout",
     "output_type": "stream",
     "text": [
      "AEFES - Anadolu Efes Hisse Senedi | İş Yatırım\n"
     ]
    }
   ],
   "source": [
    "stock = remaining_stocks[0]\n",
    "\n",
    "PATH = 'C:\\Program Files (x86)\\chromedriver.exe'\n",
    "driver = webdriver.Chrome(PATH)\n",
    "\n",
    "driver.get(\"https://www.isyatirim.com.tr/tr-tr/analiz/hisse/Sayfalar/sirket-karti.aspx?hisse=\"+ stock)  \n",
    "print(driver.title)\n",
    "time.sleep(3)"
   ]
  },
  {
   "cell_type": "code",
   "execution_count": 26,
   "metadata": {
    "jupyter": {
     "source_hidden": true
    }
   },
   "outputs": [],
   "source": [
    "def get_data():\n",
    "    soup = BeautifulSoup(html_text, 'lxml')\n",
    "    table = soup.find('tbody', id = 'tbodyMTablo')\n",
    "    trs = table.find_all('tr')\n",
    "\n",
    "    #quarter_list = []\n",
    "    #for i in range(0,4):\n",
    "    #    quarter_list.append(soup.find_all('th', class_ = 'form-group')[0].find_all('option')[i].text)\n",
    "    \n",
    "    quarter_list = []\n",
    "    for i in range(4):\n",
    "        quarter_list.append(soup.find_all('span', id = 'select2-ddlMaliTabloDonem'+str(i+1)+'-container')[0].text)\n",
    "    \n",
    "    #print('get_data içindeki q_list', quarter_list)\n",
    "\n",
    "    val_list = []\n",
    "    for i in range(1,len(trs)):\n",
    "        val_list.append(trs[i].find_all('td'))\n",
    "\n",
    "\n",
    "    col_list = []\n",
    "    for i in range(0,len(val_list)):\n",
    "        col_list.append(val_list[i][0].text)\n",
    "\n",
    "    col_list[0]\n",
    "    col_list.remove('Gelir Tablosu')\n",
    "    try:\n",
    "        col_list.remove('Dipnot')\n",
    "    except:\n",
    "        pass\n",
    "\n",
    "\n",
    "    try:\n",
    "        col_list.remove('Nakit Akım Tablosu')\n",
    "    except:\n",
    "        pass\n",
    "\n",
    "    q1 = []    \n",
    "    for i in range(0,len(val_list)):\n",
    "        try:\n",
    "            q1.append(val_list[i][1].text)\n",
    "        except:\n",
    "            i = i+1\n",
    "\n",
    "    q1[0]\n",
    "\n",
    "    q2 = []    \n",
    "    for i in range(0,len(val_list)):\n",
    "        try:\n",
    "            q2.append(val_list[i][2].text)\n",
    "        except:\n",
    "            i = i+1\n",
    "\n",
    "    q2[0]\n",
    "\n",
    "\n",
    "    q3 = []    \n",
    "    for i in range(0,len(val_list)):\n",
    "        try:\n",
    "            q3.append(val_list[i][3].text)\n",
    "        except:\n",
    "            i = i+1\n",
    "\n",
    "    q3[0]\n",
    "\n",
    "    q4= []    \n",
    "    for i in range(0,len(val_list)):\n",
    "        try:\n",
    "            q4.append(val_list[i][4].text)\n",
    "        except:\n",
    "            i = i+1   \n",
    "\n",
    "    q4[0]\n",
    "\n",
    "    q1 = [w.replace('.', '') for w in q1]\n",
    "    q1 = list(map(float, q1))\n",
    "\n",
    "    q2 = [w.replace('.', '') for w in q2]\n",
    "    q2 = list(map(float, q2))\n",
    "\n",
    "    q3 = [w.replace('.', '') for w in q3]\n",
    "    q3 = list(map(float, q3))\n",
    "\n",
    "    q4 = [w.replace('.', '') for w in q4]\n",
    "    q4 = list(map(float, q4))\n",
    "\n",
    "    col_list.insert(0,'')\n",
    "    q1.insert(0,'')\n",
    "    q2.insert(0,'')\n",
    "    q3.insert(0,'')\n",
    "    q4.insert(0,'')\n",
    "\n",
    "    col_list.insert(72,'')\n",
    "    q1.insert(72,'')\n",
    "    q2.insert(72,'')\n",
    "    q3.insert(72,'')\n",
    "    q4.insert(72,'')\n",
    "\n",
    "    col_list.insert(115,'')\n",
    "    q1.insert(115,'')\n",
    "    q2.insert(115,'')\n",
    "    q3.insert(115,'')\n",
    "    q4.insert(115,'')\n",
    "\n",
    "\n",
    "    df = pd.DataFrame(index = col_list)\n",
    "    df['q1'] = q1\n",
    "    df['q2'] = q2\n",
    "    df['q3'] = q3\n",
    "    df['q4'] = q4\n",
    "\n",
    "    df.columns = quarter_list\n",
    "\n",
    "    # gelir tablosu ve dipnot'tan sonra gelen kısmı eliyoruz. \n",
    "    #df = df.iloc[0:124,:]\n",
    "    return df, quarter_list"
   ]
  },
  {
   "cell_type": "code",
   "execution_count": 27,
   "metadata": {
    "jupyter": {
     "source_hidden": true
    }
   },
   "outputs": [],
   "source": [
    "def update_periods(driver, period_list):\n",
    "    driver.find_element_by_id('select2-ddlMaliTabloDonem1-container').click()\n",
    "    time.sleep(1)\n",
    "    #print(period_list[0])\n",
    "    driver.find_elements_by_xpath(\"//*[contains(@id, '\" + period_list[0]+ \"')]\")[0].click()\n",
    "\n",
    "    driver.find_element_by_id('select2-ddlMaliTabloDonem2-container').click()\n",
    "    time.sleep(1)\n",
    "    #print(period_list[1])\n",
    "    driver.find_elements_by_xpath(\"//*[contains(@id, '\" + period_list[1]+ \"')]\")[0].click()\n",
    "\n",
    "    driver.find_element_by_id('select2-ddlMaliTabloDonem3-container').click()\n",
    "    time.sleep(1)\n",
    "    #print(period_list[2])\n",
    "    driver.find_elements_by_xpath(\"//*[contains(@id, '\" + period_list[2]+ \"')]\")[0].click()\n",
    "\n",
    "    driver.find_element_by_id('select2-ddlMaliTabloDonem4-container').click()\n",
    "    time.sleep(1)\n",
    "    #print(period_list[3])\n",
    "    driver.find_elements_by_xpath(\"//*[contains(@id, '\" + period_list[3]+ \"')]\")[0].click()"
   ]
  },
  {
   "cell_type": "code",
   "execution_count": 28,
   "metadata": {},
   "outputs": [],
   "source": [
    "driver.find_elements_by_class_name(\"cookie-policy-close\")[0].click()"
   ]
  },
  {
   "cell_type": "code",
   "execution_count": 29,
   "metadata": {},
   "outputs": [],
   "source": [
    "driver.find_elements_by_id(\"page-4\")[0].click()"
   ]
  },
  {
   "cell_type": "code",
   "execution_count": 30,
   "metadata": {},
   "outputs": [],
   "source": [
    "driver.find_element_by_id('select2-ddlMaliTabloDonem1-container').click()"
   ]
  },
  {
   "cell_type": "code",
   "execution_count": 31,
   "metadata": {},
   "outputs": [],
   "source": [
    "html_text = driver.page_source\n",
    "soup = BeautifulSoup(html_text, 'lxml')\n",
    "table = soup.find('tbody', id = 'tbodyMTablo')\n",
    "trs = table.find_all('tr')\n",
    "\n",
    "uls = soup.find_all('ul', id = 'select2-ddlMaliTabloDonem1-results')\n",
    "\n",
    "period_list = []\n",
    "for ul in uls:\n",
    "    for li in ul.findAll('li'):\n",
    "        period_list.append(li.text)\n",
    "        \n",
    "period_list = [period for period in period_list if period >= '2017/0']   \n",
    "\n",
    "driver.find_element_by_id('select2-ddlMaliTabloDonem1-container').click()"
   ]
  },
  {
   "cell_type": "code",
   "execution_count": 32,
   "metadata": {},
   "outputs": [
    {
     "name": "stdout",
     "output_type": "stream",
     "text": [
      "16\n",
      "12\n",
      "8\n",
      "4\n"
     ]
    }
   ],
   "source": [
    "df_list = []\n",
    "\n",
    "while len(period_list) >= 4:\n",
    "    html_text = driver.page_source\n",
    "    df1,q_list = get_data()    \n",
    "        \n",
    "    df_list.append(df1)\n",
    "    \n",
    "    period_list = [p for p in period_list if p not in q_list]\n",
    "    \n",
    "    if len(period_list) == 0:\n",
    "        break\n",
    "    \n",
    "    if len(period_list) >= 8:\n",
    "        update_periods(driver, period_list)\n",
    "\n",
    "    if len(period_list) % 4 == 0:\n",
    "        update_periods(driver, period_list)        \n",
    "    else:\n",
    "        addition = len(period_list)%4\n",
    "        for i in range(4-addition):\n",
    "            period_list.append(period_list[-1])\n",
    "\n",
    "    \n",
    "    time.sleep(2)\n",
    "    print(len(period_list))"
   ]
  },
  {
   "cell_type": "code",
   "execution_count": 33,
   "metadata": {},
   "outputs": [
    {
     "data": {
      "text/plain": [
       "5"
      ]
     },
     "execution_count": 33,
     "metadata": {},
     "output_type": "execute_result"
    }
   ],
   "source": [
    "len(df_list)"
   ]
  },
  {
   "cell_type": "code",
   "execution_count": 34,
   "metadata": {},
   "outputs": [
    {
     "data": {
      "text/plain": [
       "[150, 150, 150, 150, 150]"
      ]
     },
     "execution_count": 34,
     "metadata": {},
     "output_type": "execute_result"
    }
   ],
   "source": [
    "len_list = list(map(len,df_list))\n",
    "len_list"
   ]
  },
  {
   "cell_type": "code",
   "execution_count": 35,
   "metadata": {},
   "outputs": [
    {
     "data": {
      "text/plain": [
       "[]"
      ]
     },
     "execution_count": 35,
     "metadata": {},
     "output_type": "execute_result"
    }
   ],
   "source": [
    "short_dfs = list(filter(lambda x: x <150, len_list))\n",
    "short_dfs"
   ]
  },
  {
   "cell_type": "code",
   "execution_count": 36,
   "metadata": {},
   "outputs": [],
   "source": [
    "if len(short_dfs) > 0:\n",
    "    df_to_fix = df_list[len_list.index(short_dfs[0])]\n",
    "    print(df_to_fix.shape)\n",
    "    df_to_fix.head()\n",
    "    \n",
    "    df_to_fix_backup = df_to_fix.copy()\n",
    "    df_to_fix = df_to_fix_backup.copy()\n",
    "    df_to_fix2= df_to_fix.iloc[np.r_[0:72,73:142],:]\n",
    "    df_to_fix = df_to_fix2.iloc[np.r_[0:114,115:141],:]\n",
    "    \n",
    "    list1 = list(df_to_fix.iloc[:,0])\n",
    "    list1.insert(7,0)\n",
    "    list1.insert(17,0)\n",
    "    list1.insert(23,0)\n",
    "    list1.insert(36,0)\n",
    "    list1.insert(39,0)\n",
    "    list1.insert(50,0)\n",
    "    list1.insert(53,0)\n",
    "    list1.insert(72,0)\n",
    "    list1.insert(95,0)\n",
    "    list1.insert(115,0)\n",
    "    \n",
    "    list2 = list(df_to_fix.iloc[:,1])\n",
    "    list2.insert(7,0)\n",
    "    list2.insert(17,0)\n",
    "    list2.insert(23,0)\n",
    "    list2.insert(36,0)\n",
    "    list2.insert(39,0)\n",
    "    list2.insert(50,0)\n",
    "    list2.insert(53,0)\n",
    "    list2.insert(72,0)\n",
    "    list2.insert(95,0)\n",
    "    list2.insert(115,0)\n",
    "    \n",
    "    list3 = list(df_to_fix.iloc[:,2])\n",
    "    list3.insert(7,0)\n",
    "    list3.insert(17,0)\n",
    "    list3.insert(23,0)\n",
    "    list3.insert(36,0)\n",
    "    list3.insert(39,0)\n",
    "    list3.insert(50,0)\n",
    "    list3.insert(53,0)\n",
    "    list3.insert(72,0)\n",
    "    list3.insert(95,0)\n",
    "    list3.insert(115,0)\n",
    "    \n",
    "    list4 = list(df_to_fix.iloc[:,3])\n",
    "    list4.insert(7,0)\n",
    "    list4.insert(17,0)\n",
    "    list4.insert(23,0)\n",
    "    list4.insert(36,0)\n",
    "    list4.insert(39,0)\n",
    "    list4.insert(50,0)\n",
    "    list4.insert(53,0)\n",
    "    list4.insert(72,0)\n",
    "    list4.insert(95,0)\n",
    "    list4.insert(115,0)\n",
    "    \n",
    "    df_fixed = pd.DataFrame(list(zip(list1,list2,list3,list4)))\n",
    "    df_fixed.index = df_list[0].index\n",
    "    df_fixed.columns = df_to_fix.columns\n",
    "    \n",
    "    df = pd.concat([df_list[0],df_list[1],df_list[2],df_list[3], df_fixed], axis = 1)\n",
    "\n",
    "else:    \n",
    "    df = pd.concat([df_list[0],df_list[1]], axis = 1)\n",
    "    i = 2\n",
    "    while i < len(df_list):\n",
    "        df = pd.concat([df,df_list[i]], axis = 1)\n",
    "        i = i+1"
   ]
  },
  {
   "cell_type": "code",
   "execution_count": 37,
   "metadata": {},
   "outputs": [],
   "source": [
    "df.index = df.index.str.strip()"
   ]
  },
  {
   "cell_type": "code",
   "execution_count": 38,
   "metadata": {},
   "outputs": [],
   "source": [
    "cols_to_drop = len(set(df.columns)) - len(df.columns)\n",
    "if cols_to_drop >0:\n",
    "    df = df.iloc[:,:cols_to_drop]\n",
    "df = df.iloc[0:124,:]"
   ]
  },
  {
   "cell_type": "code",
   "execution_count": 39,
   "metadata": {},
   "outputs": [],
   "source": [
    "os.chdir('C:\\\\Users\\\\Gökhan Akay\\\\Desktop\\\\BeautifulSoup\\\\Selenium Stocks')"
   ]
  },
  {
   "cell_type": "code",
   "execution_count": 40,
   "metadata": {},
   "outputs": [],
   "source": [
    "# TAM için\n",
    "df.to_excel(stock+'.xlsx')"
   ]
  },
  {
   "cell_type": "code",
   "execution_count": 42,
   "metadata": {},
   "outputs": [
    {
     "name": "stdout",
     "output_type": "stream",
     "text": [
      "[*********************100%***********************]  1 of 1 completed\n"
     ]
    }
   ],
   "source": [
    "# getting prices.\n",
    "import yfinance as yf\n",
    "from datetime import date, datetime\n",
    "\n",
    "today = date.today().strftime(\"%Y-%m-%d\")\n",
    "data = pd.DataFrame(yf.download(stock+'.IS','2017-01-01',today)['Close'])\n",
    "result = data\n",
    "result_index = list(result.index.strftime(\"%Y-%m-%d\"))\n",
    "\n",
    "index_list = ['2017-05-01','2017-08-01','2017-11-01','2018-02-01','2018-05-01','2018-08-01','2018-11-01','2019-02-01','2019-05-01',\n",
    "              '2019-08-01','2019-11-01','2020-02-03','2020-05-04','2020-08-04','2020-11-02','2021-02-01','2021-05-03','2021-08-02','2021-11-01']\n",
    "\n",
    "prices = list(result[result.index.isin(index_list)].sort_index(ascending = False).iloc[:,0])#.to_excel(stock + '_prices.xlsx')"
   ]
  },
  {
   "cell_type": "code",
   "execution_count": null,
   "metadata": {},
   "outputs": [],
   "source": [
    "import openpyxl\n",
    "from openpyxl import Workbook, load_workbook\n",
    "from openpyxl.utils import get_column_letter\n",
    "\n",
    "tam_directory = 'C:\\\\Users\\\\Gökhan Akay\\\\Desktop\\\\Google Drive\\\\TAM_202112.xlsx'\n",
    "examplary_stock = 'ASELS'\n",
    "tam = load_workbook(tam_directory)\n",
    "\n",
    "ws1 = tam.create_sheet(stock)\n",
    "ws1.title = stock\n",
    "\n",
    "# bilanço metrikleri\n",
    "for row in range(130,199):\n",
    "    for col in range(2,23):\n",
    "        #char = chr(65+col)\n",
    "        char = get_column_letter(col)\n",
    "        worksheet = tam[examplary_stock]\n",
    "        tam[stock][char + str(row)] = tam[examplary_stock][char + str(row)].value\n",
    "\n",
    "# kolon isimleri (periyotlar)\n",
    "for row in range(1,2):\n",
    "    for col in range(3,23):\n",
    "        char = get_column_letter(col)\n",
    "        worksheet = tam[examplary_stock]\n",
    "        tam[stock][char + str(row)] = tam[examplary_stock][char + str(row)].value     \n",
    "\n",
    "# bilançodaki sayılar.\n",
    "for row in range(3,126):\n",
    "    for col in range(2,len(df.columns)+3):\n",
    "        char = get_column_letter(col)\n",
    "        tam[stock][char + str(row)] = df.reset_index().iloc[row-2,col-2]\n",
    "\n",
    "# fiyat kolonu.      \n",
    "for row in range(130,131):\n",
    "    for col in range(3,3+len(prices)):\n",
    "        char = get_column_letter(col)\n",
    "        tam[stock][char + str(row)] = prices[col-3]        \n",
    "        \n",
    "tam.save(tam_directory)  "
   ]
  }
 ],
 "metadata": {
  "kernelspec": {
   "display_name": "Python 3",
   "language": "python",
   "name": "python3"
  },
  "language_info": {
   "codemirror_mode": {
    "name": "ipython",
    "version": 3
   },
   "file_extension": ".py",
   "mimetype": "text/x-python",
   "name": "python",
   "nbconvert_exporter": "python",
   "pygments_lexer": "ipython3",
   "version": "3.7.4"
  }
 },
 "nbformat": 4,
 "nbformat_minor": 4
}
