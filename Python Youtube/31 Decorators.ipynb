{
 "cells": [
  {
   "cell_type": "code",
   "execution_count": 7,
   "metadata": {},
   "outputs": [
    {
     "name": "stdout",
     "output_type": "stream",
     "text": [
      "func çalışmadan önceki işlemler\n",
      "func is running...\n",
      "func çalıştıktan sonraki işlemler\n"
     ]
    }
   ],
   "source": [
    "# ilkel kullanım\n",
    "def decorator(func):\n",
    "    def wrapper():\n",
    "        print('func çalışmadan önceki işlemler')\n",
    "        func()\n",
    "        print('func çalıştıktan sonraki işlemler')\n",
    "    return wrapper\n",
    "\n",
    "def functionn():\n",
    "    print(\"func is running...\")\n",
    "    \n",
    "function2 = decorator(functionn)\n",
    "function2()"
   ]
  },
  {
   "cell_type": "code",
   "execution_count": 11,
   "metadata": {},
   "outputs": [
    {
     "name": "stdout",
     "output_type": "stream",
     "text": [
      "func çalışmadan önceki işlemler\n",
      "yeni hali çalışıyor...\n",
      "func çalıştıktan sonraki işlemler\n"
     ]
    }
   ],
   "source": [
    "# doğru kullanım.\n",
    "@decorator\n",
    "def functionn():\n",
    "    print('yeni hali çalışıyor...')\n",
    "    \n",
    "functionn()    "
   ]
  },
  {
   "cell_type": "code",
   "execution_count": 23,
   "metadata": {},
   "outputs": [],
   "source": [
    "import time\n",
    "def calculate_time(func):\n",
    "    def wrapper(*args, **kwargs):\n",
    "        start = time.time()\n",
    "        func(*args, **kwargs)\n",
    "        time.sleep(2)\n",
    "        end = time.time()\n",
    "        print(f'işlem {end-start} saniye sürdü.')\n",
    "    return wrapper\n",
    "\n",
    "@calculate_time        \n",
    "def square(liste):\n",
    "    [print(i**2) for i in liste]\n",
    "\n",
    "@calculate_time        \n",
    "def cube(liste):\n",
    "    [print(i**3) for i in liste]    \n",
    "    \n",
    "def summ(a,b):\n",
    "    time.sleep(1)\n",
    "    return a+b"
   ]
  },
  {
   "cell_type": "code",
   "execution_count": 24,
   "metadata": {},
   "outputs": [
    {
     "name": "stdout",
     "output_type": "stream",
     "text": [
      "4\n",
      "9\n",
      "16\n",
      "işlem 2.0077316761016846 saniye sürdü.\n"
     ]
    }
   ],
   "source": [
    "square([2,3,4])"
   ]
  },
  {
   "cell_type": "code",
   "execution_count": null,
   "metadata": {},
   "outputs": [],
   "source": []
  }
 ],
 "metadata": {
  "kernelspec": {
   "display_name": "Python 3",
   "language": "python",
   "name": "python3"
  },
  "language_info": {
   "codemirror_mode": {
    "name": "ipython",
    "version": 3
   },
   "file_extension": ".py",
   "mimetype": "text/x-python",
   "name": "python",
   "nbconvert_exporter": "python",
   "pygments_lexer": "ipython3",
   "version": "3.7.4"
  }
 },
 "nbformat": 4,
 "nbformat_minor": 4
}
