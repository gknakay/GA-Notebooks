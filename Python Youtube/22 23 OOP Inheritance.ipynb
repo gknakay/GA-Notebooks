{
 "cells": [
  {
   "cell_type": "code",
   "execution_count": 10,
   "metadata": {},
   "outputs": [],
   "source": [
    "class Employee:\n",
    "    raise_rate = 1.1\n",
    "    def __init__(self, name, surname, salary):\n",
    "        self.name = name\n",
    "        self.surname = surname\n",
    "        self.salary = salary\n",
    "        self.email = name+'.'+surname+'@company.com'\n",
    "        \n",
    "    def show_info(self):\n",
    "        return \"Ad: {} Soyad: {} Maaş:{} Email:{}\".format(self.name, self.surname, self.salary, self.email)"
   ]
  },
  {
   "cell_type": "code",
   "execution_count": 12,
   "metadata": {},
   "outputs": [],
   "source": [
    "employee1 = Employee('Gökhan','Akay','50000')\n",
    "employee2 = Employee('Esin','Akay','3000')"
   ]
  },
  {
   "cell_type": "code",
   "execution_count": 14,
   "metadata": {},
   "outputs": [],
   "source": [
    "class Developer(Employee):\n",
    "    raise_rate = 1.2\n",
    "    def show_info(self):\n",
    "        print(\"I am a developer.\")"
   ]
  },
  {
   "cell_type": "code",
   "execution_count": 15,
   "metadata": {},
   "outputs": [
    {
     "data": {
      "text/plain": [
       "1.2"
      ]
     },
     "execution_count": 15,
     "metadata": {},
     "output_type": "execute_result"
    }
   ],
   "source": [
    "dev1 = Developer('Emre','İrtem',60000)\n",
    "dev1.email\n",
    "dev1.raise_rate"
   ]
  },
  {
   "cell_type": "code",
   "execution_count": 13,
   "metadata": {},
   "outputs": [
    {
     "data": {
      "text/plain": [
       "'Ad: Gökhan Soyad: Akay Maaş:50000 Email:Gökhan.Akay@company.com'"
      ]
     },
     "execution_count": 13,
     "metadata": {},
     "output_type": "execute_result"
    }
   ],
   "source": [
    "employee1.show_info()"
   ]
  },
  {
   "cell_type": "code",
   "execution_count": 16,
   "metadata": {},
   "outputs": [
    {
     "name": "stdout",
     "output_type": "stream",
     "text": [
      "I am a developer.\n"
     ]
    }
   ],
   "source": [
    "dev1.show_info()"
   ]
  },
  {
   "cell_type": "code",
   "execution_count": 20,
   "metadata": {},
   "outputs": [],
   "source": [
    "# eğer ekstra bi info gelecekse init'te, init'i baştan yazmak gerekiyor. \n",
    "class Developer(Employee):\n",
    "    raise_rate = 1.2\n",
    "    def __init__(self, name, surname, salary, language):\n",
    "        #self.name = name\n",
    "        #self.surname = surname\n",
    "        #self.salary = salary\n",
    "        #self.email = name+'.'+surname+'@company.com'\n",
    "        super().__init__(name, surname, salary)\n",
    "        self.language = language\n",
    "    def show_info(self):\n",
    "        return \"Ad: {} Soyad: {} Maaş:{} Email:{} Language:{}\".format(self.name, self.surname, self.salary, self.email, self.language)"
   ]
  },
  {
   "cell_type": "code",
   "execution_count": 21,
   "metadata": {},
   "outputs": [
    {
     "data": {
      "text/plain": [
       "'Ad: Emre Soyad: İrtem Maaş:60000 Email:Emre.İrtem@company.com Language:Java'"
      ]
     },
     "execution_count": 21,
     "metadata": {},
     "output_type": "execute_result"
    }
   ],
   "source": [
    "dev1 = Developer('Emre','İrtem',60000, 'Java')\n",
    "dev1.email\n",
    "dev1.raise_rate\n",
    "dev1.show_info()"
   ]
  },
  {
   "cell_type": "code",
   "execution_count": null,
   "metadata": {},
   "outputs": [],
   "source": []
  }
 ],
 "metadata": {
  "kernelspec": {
   "display_name": "Python 3",
   "language": "python",
   "name": "python3"
  },
  "language_info": {
   "codemirror_mode": {
    "name": "ipython",
    "version": 3
   },
   "file_extension": ".py",
   "mimetype": "text/x-python",
   "name": "python",
   "nbconvert_exporter": "python",
   "pygments_lexer": "ipython3",
   "version": "3.7.4"
  }
 },
 "nbformat": 4,
 "nbformat_minor": 4
}
