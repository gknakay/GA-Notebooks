{
 "cells": [
  {
   "cell_type": "code",
   "execution_count": 2,
   "metadata": {},
   "outputs": [
    {
     "ename": "ZeroDivisionError",
     "evalue": "division by zero",
     "output_type": "error",
     "traceback": [
      "\u001b[1;31m---------------------------------------------------------------------------\u001b[0m",
      "\u001b[1;31mZeroDivisionError\u001b[0m                         Traceback (most recent call last)",
      "\u001b[1;32m<ipython-input-2-f6436a846849>\u001b[0m in \u001b[0;36m<module>\u001b[1;34m\u001b[0m\n\u001b[0;32m      1\u001b[0m \u001b[0ma\u001b[0m \u001b[1;33m=\u001b[0m \u001b[1;36m5\u001b[0m\u001b[1;33m\u001b[0m\u001b[1;33m\u001b[0m\u001b[0m\n\u001b[0;32m      2\u001b[0m \u001b[0mb\u001b[0m \u001b[1;33m=\u001b[0m \u001b[1;36m0\u001b[0m\u001b[1;33m\u001b[0m\u001b[1;33m\u001b[0m\u001b[0m\n\u001b[1;32m----> 3\u001b[1;33m \u001b[0mc\u001b[0m \u001b[1;33m=\u001b[0m \u001b[0ma\u001b[0m\u001b[1;33m/\u001b[0m\u001b[0mb\u001b[0m\u001b[1;33m\u001b[0m\u001b[1;33m\u001b[0m\u001b[0m\n\u001b[0m\u001b[0;32m      4\u001b[0m \u001b[1;33m\u001b[0m\u001b[0m\n\u001b[0;32m      5\u001b[0m \u001b[0mprint\u001b[0m\u001b[1;33m(\u001b[0m\u001b[0ma\u001b[0m\u001b[1;33m)\u001b[0m\u001b[1;33m\u001b[0m\u001b[1;33m\u001b[0m\u001b[0m\n",
      "\u001b[1;31mZeroDivisionError\u001b[0m: division by zero"
     ]
    }
   ],
   "source": [
    "a = 5\n",
    "b = 0\n",
    "c = a/b\n",
    "\n",
    "print(a)\n",
    "print(b)\n",
    "print(c)"
   ]
  },
  {
   "cell_type": "code",
   "execution_count": 6,
   "metadata": {},
   "outputs": [
    {
     "name": "stdout",
     "output_type": "stream",
     "text": [
      "Bir hata oluştu\n",
      "5\n",
      "0\n"
     ]
    }
   ],
   "source": [
    "try:\n",
    "    a = 5\n",
    "    b = 0\n",
    "    c = a/b\n",
    "except:\n",
    "    print(\"Bir hata oluştu\")\n",
    "    print(a)\n",
    "    print(b)"
   ]
  },
  {
   "cell_type": "code",
   "execution_count": 17,
   "metadata": {},
   "outputs": [
    {
     "name": "stdout",
     "output_type": "stream",
     "text": [
      "Payda 0 olmamalı.\n",
      "finally çalışıyor.\n"
     ]
    }
   ],
   "source": [
    "try:\n",
    "    a = 5\n",
    "    b = 0\n",
    "    c = a/b\n",
    "    d = '5'\n",
    "    isim = 'Ali'\n",
    "    karakter = isim[2]\n",
    "except ZeroDivisionError:\n",
    "    print(\"Payda 0 olmamalı.\")\n",
    "except NameError:\n",
    "    print(\"Değişken daha önce tanımlanmalı.\")    \n",
    "except IndexError:\n",
    "    print(\"Belirtilen index'te bir hata var.\")     \n",
    "except Exception:  # genel hata bloğu. En sonda bulunmalı!\n",
    "    print(\"Bilinmeyen hata\")\n",
    "\n",
    "else:\n",
    "    print('hiç hata yoksa else bloğu çalışıyor')\n",
    "\n",
    "finally: # hata alınsa da bu blok çalışıyor.\n",
    "    print('finally çalışıyor.')"
   ]
  },
  {
   "cell_type": "code",
   "execution_count": 18,
   "metadata": {},
   "outputs": [
    {
     "name": "stdout",
     "output_type": "stream",
     "text": [
      "Payda 0 olmamalı.\n",
      "finally çalışıyor.\n"
     ]
    }
   ],
   "source": [
    "# Error raising. Mesela payda 0 olmamasına rağmen ZeroDivisionError yazdırtabiliyorum.\n",
    "try:\n",
    "    a = 5\n",
    "    b = 7\n",
    "    if b == 7:\n",
    "        raise ZeroDivisionError\n",
    "    c = a/b\n",
    "    d = '5'\n",
    "    isim = 'Ali'\n",
    "    karakter = isim[2]\n",
    "except ZeroDivisionError:\n",
    "    print(\"Payda 0 olmamalı.\")\n",
    "except NameError:\n",
    "    print(\"Değişken daha önce tanımlanmalı.\")    \n",
    "except IndexError:\n",
    "    print(\"Belirtilen index'te bir hata var.\")     \n",
    "except Exception:  # genel hata bloğu. En sonda bulunmalı!\n",
    "    print(\"Bilinmeyen hata\")\n",
    "\n",
    "else:\n",
    "    print('hiç hata yoksa else bloğu çalışıyor')\n",
    "\n",
    "finally: # hata alınsa da bu blok çalışıyor.\n",
    "    print('finally çalışıyor.')"
   ]
  },
  {
   "cell_type": "code",
   "execution_count": 19,
   "metadata": {},
   "outputs": [
    {
     "name": "stdout",
     "output_type": "stream",
     "text": [
      "division by zero\n",
      "finally çalışıyor.\n"
     ]
    }
   ],
   "source": [
    "# Error raising. Mesela payda 0 olmamasına rağmen ZeroDivisionError yazdırtabiliyorum.\n",
    "try:\n",
    "    a = 5\n",
    "    b = 0\n",
    "    if b == 7:\n",
    "        raise ZeroDivisionError\n",
    "    c = a/b\n",
    "    d = '5'\n",
    "    isim = 'Ali'\n",
    "    karakter = isim[2]\n",
    "except ZeroDivisionError as e:\n",
    "    print(e)\n",
    "except NameError:\n",
    "    print(\"Değişken daha önce tanımlanmalı.\")    \n",
    "except IndexError:\n",
    "    print(\"Belirtilen index'te bir hata var.\")     \n",
    "except Exception:  # genel hata bloğu. En sonda bulunmalı!\n",
    "    print(\"Bilinmeyen hata\")\n",
    "\n",
    "else:\n",
    "    print('hiç hata yoksa else bloğu çalışıyor')\n",
    "\n",
    "finally: # hata alınsa da bu blok çalışıyor.\n",
    "    print('finally çalışıyor.')"
   ]
  },
  {
   "cell_type": "code",
   "execution_count": null,
   "metadata": {},
   "outputs": [],
   "source": []
  }
 ],
 "metadata": {
  "kernelspec": {
   "display_name": "Python 3",
   "language": "python",
   "name": "python3"
  },
  "language_info": {
   "codemirror_mode": {
    "name": "ipython",
    "version": 3
   },
   "file_extension": ".py",
   "mimetype": "text/x-python",
   "name": "python",
   "nbconvert_exporter": "python",
   "pygments_lexer": "ipython3",
   "version": "3.7.4"
  }
 },
 "nbformat": 4,
 "nbformat_minor": 4
}
