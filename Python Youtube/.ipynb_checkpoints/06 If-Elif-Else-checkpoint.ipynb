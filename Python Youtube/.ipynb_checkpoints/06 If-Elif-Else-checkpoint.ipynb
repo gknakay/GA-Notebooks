{
 "cells": [
  {
   "cell_type": "code",
   "execution_count": 1,
   "metadata": {},
   "outputs": [],
   "source": [
    "a = 5\n",
    "b = 8\n",
    "c = 10"
   ]
  },
  {
   "cell_type": "code",
   "execution_count": 2,
   "metadata": {},
   "outputs": [
    {
     "name": "stdout",
     "output_type": "stream",
     "text": [
      "koşul doğru\n"
     ]
    }
   ],
   "source": [
    "if a<b and b<c:\n",
    "    print(\"koşul doğru\")\n",
    "else:\n",
    "    print('koşul yanlış')"
   ]
  },
  {
   "cell_type": "code",
   "execution_count": 3,
   "metadata": {},
   "outputs": [
    {
     "name": "stdout",
     "output_type": "stream",
     "text": [
      "koşul doğru\n"
     ]
    }
   ],
   "source": [
    "if a<b or b>c:\n",
    "    print(\"koşul doğru\")\n",
    "else:\n",
    "    print('koşul yanlış')"
   ]
  },
  {
   "cell_type": "code",
   "execution_count": 4,
   "metadata": {},
   "outputs": [
    {
     "name": "stdout",
     "output_type": "stream",
     "text": [
      "isimde o harf var\n"
     ]
    }
   ],
   "source": [
    "isim = 'python'\n",
    "harf = 'p'\n",
    "\n",
    "if harf in isim:\n",
    "    print('isimde o harf var')\n",
    "else:\n",
    "    print('yok')"
   ]
  },
  {
   "cell_type": "code",
   "execution_count": 5,
   "metadata": {},
   "outputs": [
    {
     "name": "stdout",
     "output_type": "stream",
     "text": [
      "a != b\n"
     ]
    }
   ],
   "source": [
    "a = 'python'\n",
    "b = 'pytho'\n",
    "b += 'n'\n",
    "\n",
    "if a is b:\n",
    "    print('a = b')\n",
    "else:\n",
    "    print('a != b')"
   ]
  },
  {
   "cell_type": "code",
   "execution_count": 6,
   "metadata": {},
   "outputs": [
    {
     "name": "stdout",
     "output_type": "stream",
     "text": [
      "1435702338352\n",
      "1435734018864\n"
     ]
    }
   ],
   "source": [
    "print(id(a))\n",
    "print(id(b))\n"
   ]
  },
  {
   "cell_type": "code",
   "execution_count": null,
   "metadata": {},
   "outputs": [],
   "source": []
  }
 ],
 "metadata": {
  "kernelspec": {
   "display_name": "Python 3",
   "language": "python",
   "name": "python3"
  },
  "language_info": {
   "codemirror_mode": {
    "name": "ipython",
    "version": 3
   },
   "file_extension": ".py",
   "mimetype": "text/x-python",
   "name": "python",
   "nbconvert_exporter": "python",
   "pygments_lexer": "ipython3",
   "version": "3.7.4"
  }
 },
 "nbformat": 4,
 "nbformat_minor": 4
}
