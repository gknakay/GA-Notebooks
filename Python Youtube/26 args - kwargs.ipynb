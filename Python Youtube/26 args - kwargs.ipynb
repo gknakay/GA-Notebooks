{
 "cells": [
  {
   "cell_type": "code",
   "execution_count": 2,
   "metadata": {},
   "outputs": [],
   "source": [
    "def get_info(name, age, profession ='Engineer'): # burada name ve age positional argument, profession ise keyword argument\n",
    "    print(f\"the person is called {name}. He is {age} years old and he is an {profession}\")"
   ]
  },
  {
   "cell_type": "code",
   "execution_count": 3,
   "metadata": {},
   "outputs": [
    {
     "name": "stdout",
     "output_type": "stream",
     "text": [
      "the person is called gökhan. He is 29 years old and he is an Engineer\n"
     ]
    }
   ],
   "source": [
    "get_info('gökhan', 29)"
   ]
  },
  {
   "cell_type": "code",
   "execution_count": 4,
   "metadata": {},
   "outputs": [],
   "source": [
    "def summ(*args):\n",
    "    print(args)"
   ]
  },
  {
   "cell_type": "code",
   "execution_count": 5,
   "metadata": {},
   "outputs": [
    {
     "name": "stdout",
     "output_type": "stream",
     "text": [
      "(1, 2, 3, 4, 5, ['a', 'b', 'c'], True)\n"
     ]
    }
   ],
   "source": [
    "summ(1,2,3,4,5,['a','b','c'], True)"
   ]
  },
  {
   "cell_type": "code",
   "execution_count": 8,
   "metadata": {},
   "outputs": [],
   "source": [
    "def multiply(*args):\n",
    "    result = 1\n",
    "    for arg in args:\n",
    "        result *= arg\n",
    "    return result"
   ]
  },
  {
   "cell_type": "code",
   "execution_count": 9,
   "metadata": {},
   "outputs": [
    {
     "data": {
      "text/plain": [
       "360"
      ]
     },
     "execution_count": 9,
     "metadata": {},
     "output_type": "execute_result"
    }
   ],
   "source": [
    "multiply(3,4,5,6)"
   ]
  },
  {
   "cell_type": "code",
   "execution_count": 10,
   "metadata": {},
   "outputs": [],
   "source": [
    "def greet(**kwargs):\n",
    "    print(kwargs)"
   ]
  },
  {
   "cell_type": "code",
   "execution_count": 11,
   "metadata": {},
   "outputs": [
    {
     "name": "stdout",
     "output_type": "stream",
     "text": [
      "{'name': 'gökhan', 'age': 23, 'profession': 'DS'}\n"
     ]
    }
   ],
   "source": [
    "greet(name = 'gökhan', age = 23, profession = 'DS')"
   ]
  },
  {
   "cell_type": "code",
   "execution_count": 14,
   "metadata": {},
   "outputs": [],
   "source": [
    "def ultimate(mandatory, *args, **kwargs):\n",
    "    print(mandatory)\n",
    "    print(\"------------\")\n",
    "    for arg in args:\n",
    "        print(arg)\n",
    "    print(\"------------\")\n",
    "    for k,v in kwargs.items():\n",
    "        print(k,v)\n",
    "    print(\"------------\")\n",
    "    for kwarg in kwargs:\n",
    "        print(kwarg)"
   ]
  },
  {
   "cell_type": "code",
   "execution_count": 15,
   "metadata": {},
   "outputs": [
    {
     "name": "stdout",
     "output_type": "stream",
     "text": [
      "zorunlu1\n",
      "------------\n",
      "zorunlu2\n",
      "4\n",
      "5\n",
      "6\n",
      "------------\n",
      "ahmet isim\n",
      "yılmaz soyisim\n",
      "------------\n",
      "ahmet\n",
      "yılmaz\n"
     ]
    }
   ],
   "source": [
    "ultimate('zorunlu1', 'zorunlu2', 4,5,6, ahmet = 'isim', yılmaz = 'soyisim')"
   ]
  },
  {
   "cell_type": "code",
   "execution_count": null,
   "metadata": {},
   "outputs": [],
   "source": []
  }
 ],
 "metadata": {
  "kernelspec": {
   "display_name": "Python 3",
   "language": "python",
   "name": "python3"
  },
  "language_info": {
   "codemirror_mode": {
    "name": "ipython",
    "version": 3
   },
   "file_extension": ".py",
   "mimetype": "text/x-python",
   "name": "python",
   "nbconvert_exporter": "python",
   "pygments_lexer": "ipython3",
   "version": "3.7.4"
  }
 },
 "nbformat": 4,
 "nbformat_minor": 4
}
