{
 "cells": [
  {
   "cell_type": "code",
   "execution_count": 12,
   "metadata": {},
   "outputs": [],
   "source": [
    "import os\n",
    "from datetime import datetime"
   ]
  },
  {
   "cell_type": "code",
   "execution_count": 2,
   "metadata": {},
   "outputs": [
    {
     "data": {
      "text/plain": [
       "'C:\\\\Users\\\\Gökhan Akay\\\\Desktop\\\\Masaüstü\\\\Python Youtube'"
      ]
     },
     "execution_count": 2,
     "metadata": {},
     "output_type": "execute_result"
    }
   ],
   "source": [
    "os.getcwd()"
   ]
  },
  {
   "cell_type": "code",
   "execution_count": 4,
   "metadata": {},
   "outputs": [],
   "source": [
    "os.chdir(\"C:\\\\Users\\\\Gökhan Akay\\\\Desktop\\\\BeautifulSoup\")"
   ]
  },
  {
   "cell_type": "code",
   "execution_count": 5,
   "metadata": {},
   "outputs": [
    {
     "data": {
      "text/plain": [
       "'C:\\\\Users\\\\Gökhan Akay\\\\Desktop\\\\BeautifulSoup'"
      ]
     },
     "execution_count": 5,
     "metadata": {},
     "output_type": "execute_result"
    }
   ],
   "source": [
    "os.getcwd()"
   ]
  },
  {
   "cell_type": "code",
   "execution_count": 6,
   "metadata": {},
   "outputs": [],
   "source": [
    "os.chdir('C:\\\\Users\\\\Gökhan Akay\\\\Desktop\\\\Masaüstü\\\\Python Youtube')"
   ]
  },
  {
   "cell_type": "code",
   "execution_count": 7,
   "metadata": {},
   "outputs": [
    {
     "data": {
      "text/plain": [
       "'C:\\\\Users\\\\Gökhan Akay\\\\Desktop\\\\Masaüstü\\\\Python Youtube'"
      ]
     },
     "execution_count": 7,
     "metadata": {},
     "output_type": "execute_result"
    }
   ],
   "source": [
    "os.getcwd()"
   ]
  },
  {
   "cell_type": "code",
   "execution_count": 8,
   "metadata": {},
   "outputs": [
    {
     "data": {
      "text/plain": [
       "['.ipynb_checkpoints',\n",
       " '01 Strings.ipynb',\n",
       " '02 Int - Float.ipynb',\n",
       " '03 Lists.ipynb',\n",
       " '04 Sets - Tuples.ipynb',\n",
       " '05 Dicts.ipynb',\n",
       " '06 If-Elif-Else.ipynb',\n",
       " '07 Loops.ipynb',\n",
       " '08 Input.ipynb',\n",
       " '09 Exercise.ipynb',\n",
       " '15 OS Module.ipynb',\n",
       " '33 Lambdas.ipynb',\n",
       " '34 Map.ipynb',\n",
       " '35 Filter.ipynb',\n",
       " '36 Reduce.ipynb',\n",
       " '37 Zip.ipynb']"
      ]
     },
     "execution_count": 8,
     "metadata": {},
     "output_type": "execute_result"
    }
   ],
   "source": [
    "os.listdir()"
   ]
  },
  {
   "cell_type": "code",
   "execution_count": 9,
   "metadata": {},
   "outputs": [],
   "source": [
    "os.mkdir('Deneme')"
   ]
  },
  {
   "cell_type": "code",
   "execution_count": 10,
   "metadata": {},
   "outputs": [],
   "source": [
    "os.rmdir('Deneme')"
   ]
  },
  {
   "cell_type": "code",
   "execution_count": 14,
   "metadata": {},
   "outputs": [
    {
     "data": {
      "text/plain": [
       "datetime.datetime(2022, 1, 30, 16, 31, 24, 869273)"
      ]
     },
     "execution_count": 14,
     "metadata": {},
     "output_type": "execute_result"
    }
   ],
   "source": [
    "datetime.fromtimestamp(os.stat(\"03 Lists.ipynb\").st_atime)"
   ]
  },
  {
   "cell_type": "code",
   "execution_count": 18,
   "metadata": {},
   "outputs": [
    {
     "data": {
      "text/plain": [
       "True"
      ]
     },
     "execution_count": 18,
     "metadata": {},
     "output_type": "execute_result"
    }
   ],
   "source": [
    "os.path.isfile('C:\\\\Users\\\\Gökhan Akay\\\\Desktop\\\\Masaüstü\\\\Python Youtube\\\\01 Strings.ipynb')"
   ]
  },
  {
   "cell_type": "code",
   "execution_count": 19,
   "metadata": {},
   "outputs": [
    {
     "data": {
      "text/plain": [
       "True"
      ]
     },
     "execution_count": 19,
     "metadata": {},
     "output_type": "execute_result"
    }
   ],
   "source": [
    "os.path.isdir('C:\\\\Users\\\\Gökhan Akay\\\\Desktop\\\\Masaüstü\\\\Python Youtube')"
   ]
  },
  {
   "cell_type": "code",
   "execution_count": 20,
   "metadata": {},
   "outputs": [],
   "source": [
    "def duzenle():\n",
    "    folder = input(\"Folder to tidy up: \")\n",
    "    files = []\n",
    "    extensions = []\n",
    "    def list_dir():\n",
    "        for file in os.listdir(folder):\n",
    "            if os.path.isdir(os.path.join(folder, file)): #dosyamız klasör mü\n",
    "                continue\n",
    "            if file.startswith('.'):   #dosya gizli dosya mı?\n",
    "                continue\n",
    "            else:\n",
    "                files.append(file)\n",
    "    \n",
    "    list_dir()\n",
    "    \n",
    "    for file in files:\n",
    "        extension = file.split(\".\")[-1]\n",
    "        if extension in extensions:\n",
    "            continue\n",
    "        else:\n",
    "            extensions.append(extension)\n",
    "            \n",
    "    for extension in extensions:\n",
    "        if os.path.isdir(os.path.join(folder, extension)):\n",
    "            continue\n",
    "        else:\n",
    "            os.mkdir(os.path.join(folder,extension))\n",
    "    \n",
    "    for file in files:\n",
    "        extension = file.split(\".\")[-1]\n",
    "        os.rename(os.path.join(folder, file), os.path.join(folder, extension, file))"
   ]
  },
  {
   "cell_type": "code",
   "execution_count": 23,
   "metadata": {},
   "outputs": [
    {
     "name": "stdin",
     "output_type": "stream",
     "text": [
      "Folder to tidy up:  C:\\\\Users\\\\Gökhan Akay\\\\Desktop\\\\Yemek\n"
     ]
    }
   ],
   "source": [
    "duzenle()"
   ]
  },
  {
   "cell_type": "code",
   "execution_count": null,
   "metadata": {},
   "outputs": [],
   "source": []
  }
 ],
 "metadata": {
  "kernelspec": {
   "display_name": "Python 3",
   "language": "python",
   "name": "python3"
  },
  "language_info": {
   "codemirror_mode": {
    "name": "ipython",
    "version": 3
   },
   "file_extension": ".py",
   "mimetype": "text/x-python",
   "name": "python",
   "nbconvert_exporter": "python",
   "pygments_lexer": "ipython3",
   "version": "3.7.4"
  }
 },
 "nbformat": 4,
 "nbformat_minor": 4
}
