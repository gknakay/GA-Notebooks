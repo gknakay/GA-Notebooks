{
 "cells": [
  {
   "cell_type": "code",
   "execution_count": 2,
   "metadata": {},
   "outputs": [],
   "source": [
    "from deneme import deneme\n",
    "import pandas as pd\n",
    "import time\n",
    "from datetime import date, datetime\n",
    "import matplotlib.pyplot as plt\n",
    "import yfinance as yf\n",
    "import pickle\n",
    "from pandas.plotting import register_matplotlib_converters\n",
    "register_matplotlib_converters()\n",
    "pd.set_option(\"display.max_columns\", None)\n",
    "pd.set_option(\"display.max_rows\", None)"
   ]
  },
  {
   "cell_type": "code",
   "execution_count": 4,
   "metadata": {},
   "outputs": [],
   "source": [
    "#run the following command on the terminal: \n",
    "#pip install --upgrade google-api-python-client google-auth-httplib2 google-auth-oauthlib\n",
    "\n",
    "\n",
    "from googleapiclient.discovery import build\n",
    "from google_auth_oauthlib.flow import InstalledAppFlow,Flow\n",
    "from google.auth.transport.requests import Request"
   ]
  },
  {
   "cell_type": "code",
   "execution_count": 5,
   "metadata": {},
   "outputs": [],
   "source": [
    "SCOPES = ['https://www.googleapis.com/auth/spreadsheets']\n",
    "\n",
    "# here enter the id of your google sheet\n",
    "SAMPLE_SPREADSHEET_ID_input = '1Th9C5jOsPxDJtGYditB2ZOdCXGi834MSWbPaO9aDxhI'\n",
    "SAMPLE_RANGE_NAME = 'A1:H1000'"
   ]
  },
  {
   "cell_type": "code",
   "execution_count": 6,
   "metadata": {},
   "outputs": [
    {
     "name": "stdout",
     "output_type": "stream",
     "text": [
      "Please visit this URL to authorize this application: https://accounts.google.com/o/oauth2/auth?response_type=code&client_id=520015046348-8vikaieamv5kfda2bgq4msn0kmso57s7.apps.googleusercontent.com&redirect_uri=http%3A%2F%2Flocalhost%3A52484%2F&scope=https%3A%2F%2Fwww.googleapis.com%2Fauth%2Fspreadsheets&state=IsVJ30ip5l8kTfIOY8oTM3Fy1JumzD&access_type=offline\n"
     ]
    }
   ],
   "source": [
    "global values_input, service\n",
    "\n",
    "creds = None\n",
    "# if os.path.exists('token.pickle'):\n",
    "#     with open('token.pickle', 'rb') as token:\n",
    "#         creds = pickle.load(token)\n",
    "if not creds or not creds.valid:\n",
    "    if creds and creds.expired and creds.refresh_token:\n",
    "        creds.refresh(Request())\n",
    "    else:\n",
    "        flow = InstalledAppFlow.from_client_secrets_file(\n",
    "            'creds.json', SCOPES) # here enter the name of your downloaded JSON file\n",
    "        creds = flow.run_local_server(port=0)\n",
    "    # with open('token.pickle', 'wb') as token:\n",
    "    #     pickle.dump(creds, token)\n",
    "\n",
    "service = build('sheets', 'v4', credentials=creds)\n",
    "\n",
    "# Call the Sheets API\n",
    "sheet = service.spreadsheets()\n",
    "result_input = sheet.values().get(spreadsheetId=SAMPLE_SPREADSHEET_ID_input,\n",
    "                            range=SAMPLE_RANGE_NAME).execute()\n",
    "values_input = result_input.get('values', [])\n",
    "\n",
    "if not values_input and not values_expansion:\n",
    "    print('No data found.')"
   ]
  },
  {
   "cell_type": "code",
   "execution_count": 7,
   "metadata": {},
   "outputs": [
    {
     "data": {
      "text/html": [
       "<div>\n",
       "<style scoped>\n",
       "    .dataframe tbody tr th:only-of-type {\n",
       "        vertical-align: middle;\n",
       "    }\n",
       "\n",
       "    .dataframe tbody tr th {\n",
       "        vertical-align: top;\n",
       "    }\n",
       "\n",
       "    .dataframe thead th {\n",
       "        text-align: right;\n",
       "    }\n",
       "</style>\n",
       "<table border=\"1\" class=\"dataframe\">\n",
       "  <thead>\n",
       "    <tr style=\"text-align: right;\">\n",
       "      <th></th>\n",
       "      <th>Tarih</th>\n",
       "      <th></th>\n",
       "      <th>Hisse</th>\n",
       "      <th>Alış / Satış</th>\n",
       "      <th>Fiyat</th>\n",
       "      <th>Adet</th>\n",
       "      <th>Tutar</th>\n",
       "      <th>Kurtaj</th>\n",
       "    </tr>\n",
       "  </thead>\n",
       "  <tbody>\n",
       "    <tr>\n",
       "      <th>1</th>\n",
       "      <td>20220101</td>\n",
       "      <td>Fon</td>\n",
       "      <td>AFA</td>\n",
       "      <td>Alış</td>\n",
       "      <td>0.2300</td>\n",
       "      <td>61414</td>\n",
       "      <td>14,125.22</td>\n",
       "      <td>0.00</td>\n",
       "    </tr>\n",
       "    <tr>\n",
       "      <th>2</th>\n",
       "      <td>20220101</td>\n",
       "      <td>Fon</td>\n",
       "      <td>AFT</td>\n",
       "      <td>Alış</td>\n",
       "      <td>0.1600</td>\n",
       "      <td>168361</td>\n",
       "      <td>26,937.76</td>\n",
       "      <td>0.00</td>\n",
       "    </tr>\n",
       "    <tr>\n",
       "      <th>3</th>\n",
       "      <td>20220101</td>\n",
       "      <td>Hisse</td>\n",
       "      <td>ARCLK</td>\n",
       "      <td>Alış</td>\n",
       "      <td>48.4000</td>\n",
       "      <td>90</td>\n",
       "      <td>4,356.00</td>\n",
       "      <td>2.27</td>\n",
       "    </tr>\n",
       "    <tr>\n",
       "      <th>4</th>\n",
       "      <td>20220101</td>\n",
       "      <td>Hisse</td>\n",
       "      <td>ARDYZ</td>\n",
       "      <td>Alış</td>\n",
       "      <td>7.3300</td>\n",
       "      <td>392</td>\n",
       "      <td>2,873.36</td>\n",
       "      <td>1.49</td>\n",
       "    </tr>\n",
       "    <tr>\n",
       "      <th>5</th>\n",
       "      <td>20220101</td>\n",
       "      <td>Hisse</td>\n",
       "      <td>ASELS</td>\n",
       "      <td>Alış</td>\n",
       "      <td>20.8800</td>\n",
       "      <td>415</td>\n",
       "      <td>8,665.20</td>\n",
       "      <td>4.51</td>\n",
       "    </tr>\n",
       "  </tbody>\n",
       "</table>\n",
       "</div>"
      ],
      "text/plain": [
       "      Tarih         Hisse Alış / Satış    Fiyat    Adet      Tutar Kurtaj\n",
       "1  20220101    Fon    AFA         Alış   0.2300   61414  14,125.22   0.00\n",
       "2  20220101    Fon    AFT         Alış   0.1600  168361  26,937.76   0.00\n",
       "3  20220101  Hisse  ARCLK         Alış  48.4000      90   4,356.00   2.27\n",
       "4  20220101  Hisse  ARDYZ         Alış   7.3300     392   2,873.36   1.49\n",
       "5  20220101  Hisse  ASELS         Alış  20.8800     415   8,665.20   4.51"
      ]
     },
     "execution_count": 7,
     "metadata": {},
     "output_type": "execute_result"
    }
   ],
   "source": [
    "df = pd.DataFrame(values_input.copy())\n",
    "df = df.rename(columns = df.iloc[0])\n",
    "df = df.drop(df.index[0])\n",
    "df.head()"
   ]
  },
  {
   "cell_type": "code",
   "execution_count": 8,
   "metadata": {},
   "outputs": [
    {
     "data": {
      "text/plain": [
       "28"
      ]
     },
     "execution_count": 8,
     "metadata": {},
     "output_type": "execute_result"
    }
   ],
   "source": [
    "stock_list = list(df.Hisse.unique())\n",
    "stock_list = [stock for stock in stock_list if len(stock) >= 4]\n",
    "stock_list.remove('DHER')\n",
    "stock_list.remove('IST:SISE')\n",
    "stock_list.append('SISE')\n",
    "len(stock_list)"
   ]
  },
  {
   "cell_type": "code",
   "execution_count": null,
   "metadata": {},
   "outputs": [],
   "source": [
    "start_date = '2022-01-01'\n",
    "end_date = str(pd.Timestamp.today())[:10]\n",
    "stock_list_is = [stock + '.IS' for stock in stock_list]\n"
   ]
  },
  {
   "cell_type": "code",
   "execution_count": 23,
   "metadata": {},
   "outputs": [],
   "source": [
    "stock_list_ult = \" \".join(stock_list_is)"
   ]
  },
  {
   "cell_type": "code",
   "execution_count": 24,
   "metadata": {},
   "outputs": [
    {
     "name": "stdout",
     "output_type": "stream",
     "text": [
      "[*********************100%***********************]  28 of 28 completed\n",
      "\n",
      "1 Failed download:\n",
      "- GESAN.IS: No data found for this date range, symbol may be delisted\n"
     ]
    }
   ],
   "source": [
    "price_data = pd.DataFrame(yf.download(stock_list_ult, start_date, end_date)['Close'])\n",
    "price_data = round(price_data,2).reset_index()"
   ]
  },
  {
   "cell_type": "code",
   "execution_count": 28,
   "metadata": {},
   "outputs": [
    {
     "data": {
      "text/plain": [
       "(226, 28)"
      ]
     },
     "execution_count": 28,
     "metadata": {},
     "output_type": "execute_result"
    }
   ],
   "source": [
    "price_data.shape"
   ]
  },
  {
   "cell_type": "code",
   "execution_count": 31,
   "metadata": {},
   "outputs": [
    {
     "data": {
      "text/plain": [
       "Date\n",
       "2021-12-31 00:00:00    12.370312\n",
       "2022-01-03 00:00:00    12.922218\n",
       "2022-01-04 00:00:00    13.179140\n",
       "2022-01-05 00:00:00    13.569281\n",
       "2022-01-06 00:00:00    14.282953\n",
       "2022-01-07 00:00:00    14.187797\n",
       "2022-01-10 00:00:00    14.149734\n",
       "2022-01-11 00:00:00    14.539875\n",
       "2022-01-12 00:00:00    14.273437\n",
       "2022-01-13 00:00:00    14.463750\n",
       "Name: KONTR.IS, dtype: float64"
      ]
     },
     "execution_count": 31,
     "metadata": {},
     "output_type": "execute_result"
    }
   ],
   "source": [
    "price_data['KONTR.IS'].head(10)"
   ]
  },
  {
   "cell_type": "code",
   "execution_count": null,
   "metadata": {},
   "outputs": [],
   "source": [
    "#buraya bedelli ve bedelsizler gelecek...\n",
    "\n",
    "# data.loc[data.index < '2021-10-25', 'VESBE.IS'] = data.loc[data.index < '2021-10-25', 'VESBE.IS']*(8.4211)\n",
    "# data.loc[data.index < '2021-08-31', 'GEDZA.IS'] = data.loc[data.index < '2021-08-31', 'GEDZA.IS']*(2)\n",
    "# data.loc[data.index < '2021-04-30', 'HEKTS.IS'] = data.loc[data.index < '2021-04-30', 'HEKTS.IS']*(2.7577)\n"
   ]
  },
  {
   "cell_type": "code",
   "execution_count": null,
   "metadata": {},
   "outputs": [],
   "source": [
    "# data = pd.DataFrame(yf.download(stocks[0],'2021-01-01',today)['Close'])\n",
    "\n",
    "# for i in range(1,len(stocks)):\n",
    "#     data_temp = pd.DataFrame(yf.download(stocks[i],'2021-01-01',today)['Close'])\n",
    "#     data = data.merge(data_temp, how = 'left', on = 'Date')\n",
    "#     print(i)"
   ]
  },
  {
   "cell_type": "code",
   "execution_count": null,
   "metadata": {},
   "outputs": [],
   "source": [
    "data = data.astype('float')"
   ]
  },
  {
   "cell_type": "code",
   "execution_count": null,
   "metadata": {},
   "outputs": [],
   "source": [
    "df = data.iloc[6:,:]"
   ]
  },
  {
   "cell_type": "code",
   "execution_count": null,
   "metadata": {},
   "outputs": [],
   "source": [
    "trans.columns = [\"Date\",\"Stock\",\"Buy/Sell\",\"Price\",\"Lots\",\"Amount\",\"Commission\"]\n",
    "trans = trans.dropna()\n",
    "\n",
    "\n",
    "lots = pd.DataFrame(columns = stocks, index = df.index)\n",
    "\n",
    "if year == 2021:\n",
    "    prices = df[df.index >= min(trans[\"Date\"])]\n",
    "    list1 = prices.columns\n",
    "    list2 = [s[:-3] for s in list1]\n",
    "    prices.columns = list2\n"
   ]
  },
  {
   "cell_type": "code",
   "execution_count": null,
   "metadata": {},
   "outputs": [],
   "source": [
    "#list1 = lots.columns\n",
    "#list2 = [s[:-3] for s in list1]\n",
    "#lots.columns = list2"
   ]
  },
  {
   "cell_type": "code",
   "execution_count": null,
   "metadata": {},
   "outputs": [],
   "source": [
    "list1 = df.columns\n",
    "list2 = [s[:-3] for s in list1]\n",
    "df.columns = list2"
   ]
  },
  {
   "cell_type": "code",
   "execution_count": null,
   "metadata": {},
   "outputs": [],
   "source": [
    "trans[\"Date2\"] = pd.to_datetime(trans[\"Date\"])\n",
    "\n",
    "\n",
    "for i in range(0,len(lots)):\n",
    "    for j in range(0,len(stocks)):\n",
    "        lots.iloc[i,j] = trans[(trans['Date2'] <= lots.index[i]) & (trans[\"Stock\"] == stocks[j]) & (trans[\"Buy/Sell\"] == \"Alış\")][\"Lots\"].sum() \\\n",
    "                        -trans[(trans['Date2'] <= lots.index[i]) & (trans[\"Stock\"] == stocks[j]) & (trans[\"Buy/Sell\"] == \"Satış\")][\"Lots\"].sum()   \n",
    "\n",
    "expenses = pd.DataFrame(columns = stocks, index = prices.index)\n",
    "\n",
    "\n",
    "if year == 2021:\n",
    "    df[\"PORTFOLIO\"] = df['EREGL']*lots[\"EREGL\"].iloc[-1] + \\\n",
    "                        df['TUPRS']*lots[\"TUPRS\"].iloc[-1] + \\\n",
    "                        df['ASELS']*lots[\"ASELS\"].iloc[-1] + \\\n",
    "                        df['SISE']*lots[\"SISE\"].iloc[-1] + \\\n",
    "                        df['TOASO']*lots[\"TOASO\"].iloc[-1] + \\\n",
    "                        df['TTKOM']*lots[\"TTKOM\"].iloc[-1] + \\\n",
    "                        df['BIMAS']*lots[\"BIMAS\"].iloc[-1] + \\\n",
    "                        df['FROTO']*lots[\"FROTO\"].iloc[-1] + \\\n",
    "                        df['ARCLK']*lots[\"ARCLK\"].iloc[-1] + \\\n",
    "                        df['ARDYZ']*lots[\"ARDYZ\"].iloc[-1] + \\\n",
    "                        df['YATAS']*lots[\"YATAS\"].iloc[-1] + \\\n",
    "                        df['KCHOL']*lots[\"KCHOL\"].iloc[-1] + \\\n",
    "                        df['VESTL']*lots[\"VESTL\"].iloc[-1] + \\\n",
    "                        df['GEDZA']*lots[\"GEDZA\"].iloc[-1] + \\\n",
    "                        df['VESBE']*lots[\"VESBE\"].iloc[-1] + \\\n",
    "                        df['PETKM']*lots[\"PETKM\"].iloc[-1] + \\\n",
    "                        df['HEKTS']*lots[\"HEKTS\"].iloc[-1] + \\\n",
    "                        df['TKFEN']*lots[\"TKFEN\"].iloc[-1] + \\\n",
    "                        df['BRISA']*lots[\"BRISA\"].iloc[-1] + \\\n",
    "                        df['TCELL']*lots[\"TCELL\"].iloc[-1] + \\\n",
    "                        df['YKBNK']*lots[\"YKBNK\"].iloc[-1]\n",
    "                      "
   ]
  },
  {
   "cell_type": "code",
   "execution_count": null,
   "metadata": {},
   "outputs": [],
   "source": [
    "#204,20\n",
    "for i in range(0,len(lots)):\n",
    "    for j in range(0,len(stocks)):\n",
    "        expenses.iloc[i,j] = trans[(trans[\"Date2\"] <= lots.index[i]) & (trans[\"Stock\"] == stocks[j]) & (trans[\"Buy/Sell\"] == \"Alış\")][\"Amount\"].sum() \\\n",
    "                            -trans[(trans[\"Date2\"] <= lots.index[i]) & (trans[\"Stock\"] == stocks[j]) & (trans[\"Buy/Sell\"] == \"Satış\")][\"Amount\"].sum() \\\n",
    "                            +trans[(trans[\"Date2\"] <= lots.index[i]) & (trans[\"Stock\"] == stocks[j])][\"Commission\"].sum() \\\n",
    "                            -trans[(trans[\"Date2\"] <= lots.index[i]) & (trans[\"Stock\"] == stocks[j]) & (trans[\"Buy/Sell\"] == \"TMTTU\")][\"Amount\"].sum()\n",
    "\n"
   ]
  },
  {
   "cell_type": "code",
   "execution_count": null,
   "metadata": {},
   "outputs": [],
   "source": [
    "lot_pri = lots * prices\n",
    "lot_pri[\"TOTAL\"] = lot_pri.sum(axis = 1)   \n",
    "\n",
    "\n",
    "profit = lot_pri - expenses\n",
    "profit[\"TOTAL\"] = profit.sum(axis = 1)\n",
    "profit[\"Daily\"] = profit[\"TOTAL\"].diff()\n",
    "print(df[\"PORTFOLIO\"].tail(1),round(profit[\"TOTAL\"].tail(1),2))"
   ]
  },
  {
   "cell_type": "code",
   "execution_count": null,
   "metadata": {},
   "outputs": [],
   "source": [
    "#lot_pri[\"TOTAL\"].plot(figsize = (10,5))"
   ]
  },
  {
   "cell_type": "code",
   "execution_count": null,
   "metadata": {},
   "outputs": [],
   "source": [
    "from matplotlib.pyplot import figure\n",
    "plt.figure(figsize=(20,5))\n",
    "plt.plot(profit[\"TOTAL\"], linestyle = '-', marker = 'o', color = \"red\" )\n",
    "plt.xticks(rotation = 45)\n",
    "plt.grid()\n",
    "plt.xlabel(\"Date\") \n",
    "plt.ylabel(\"Profit/Loss\")\n",
    "plt.show()"
   ]
  },
  {
   "cell_type": "code",
   "execution_count": null,
   "metadata": {},
   "outputs": [],
   "source": [
    "## Daily Profits/Losses\n",
    "df[\"DAILY\"] = df[\"PORTFOLIO\"].diff()\n",
    "with pd.option_context('display.max_rows', None, 'display.max_columns', None):  # more options can be specified also\n",
    "    print(df[df[\"DAILY\"].isnull() == False][\"DAILY\"].tail())"
   ]
  },
  {
   "cell_type": "code",
   "execution_count": null,
   "metadata": {},
   "outputs": [],
   "source": [
    "##xu100'ü malesef siteden çekmek zorundayız. \n",
    "\n",
    "\n",
    "# xu100_1 = pd.read_csv(\"XU100.csv\")\n",
    "# xu100_1 = xu100_1[\"Price\"]\n",
    "# xu100  = xu100_1.iloc[::-1]\n",
    "# xu100.index = df.index\n",
    "# comp = pd.concat([xu100,df[\"PORTFOLIO\"]], axis = 1)\n",
    "# comp['Price'] = comp['Price'].str.replace(',', '')\n",
    "# comp[\"Price\"] = comp[\"Price\"].astype(\"float\")\n",
    "# comp[\"XU100_Adj\"] = comp[\"Price\"]/(comp[\"Price\"].iloc[0] / comp[\"PORTFOLIO\"].iloc[0])\n",
    "# comp[[\"PORTFOLIO\",\"XU100_Adj\"]].plot(figsize = (20,10))"
   ]
  }
 ],
 "metadata": {
  "interpreter": {
   "hash": "b1b3e185a55614c797d702524dcee6cf7a9aca832466c931157693e81c518877"
  },
  "kernelspec": {
   "display_name": "Python 3.9.12 ('base')",
   "language": "python",
   "name": "python3"
  },
  "language_info": {
   "codemirror_mode": {
    "name": "ipython",
    "version": 3
   },
   "file_extension": ".py",
   "mimetype": "text/x-python",
   "name": "python",
   "nbconvert_exporter": "python",
   "pygments_lexer": "ipython3",
   "version": "3.9.12"
  }
 },
 "nbformat": 4,
 "nbformat_minor": 4
}
